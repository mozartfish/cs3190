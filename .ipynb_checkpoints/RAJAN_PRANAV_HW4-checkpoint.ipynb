{
 "cells": [
  {
   "cell_type": "code",
   "execution_count": 1,
   "metadata": {},
   "outputs": [],
   "source": [
    "import numpy as np\n",
    "import math \n",
    "import scipy as sp\n",
    "from scipy import linalg as LA"
   ]
  },
  {
   "cell_type": "code",
   "execution_count": 18,
   "metadata": {},
   "outputs": [],
   "source": [
    "# read in the data\n",
    "x4_data = np.genfromtxt('X4.csv', delimiter=',')\n",
    "y4_data = np.genfromtxt('y4.csv', delimiter=',')\n",
    "A_data = np.genfromtxt('A.csv', delimiter=',')\n",
    "\n",
    "# print the data for debugging\n",
    "\n",
    "# print(\"x4 data\")\n",
    "# print(x4_data)\n",
    "# print(\"y4 data\")\n",
    "# print(y4_data)\n",
    "# print(\"A data\")\n",
    "# print(A_data)\n"
   ]
  },
  {
   "cell_type": "code",
   "execution_count": 54,
   "metadata": {},
   "outputs": [
    {
     "name": "stdout",
     "output_type": "stream",
     "text": [
      "The third singular value is 0.03942337819653506\n",
      "The rank of a is 6\n",
      "The eigenvalues are [9.99906267e-01 3.97685791e-02 1.55420275e-03 6.52894045e-05\n",
      " 1.70999192e-06 1.95216715e-06]\n",
      "The eigenvectors are [[ 0.1333662  -0.03940497 -0.15588663  0.37528233  0.86969438  0.24321784]\n",
      " [ 0.11437164 -0.40304136  0.48135291  0.00460993  0.25194593 -0.72751506]\n",
      " [ 0.37080566  0.86339496  0.1814491  -0.05632106  0.112206   -0.26146945]\n",
      " [-0.33023787  0.12406151 -0.70854569  0.18150042  0.01409868 -0.5834154 ]\n",
      " [ 0.83982148 -0.2558767  -0.35429924  0.17533217 -0.26517896 -0.0513595 ]\n",
      " [ 0.13144801 -0.09843731 -0.28898099 -0.89010454  0.31152221 -0.01375941]]\n",
      "The frobenius norm squared is 0.47872581602550685\n",
      "The spectral norm squared is 4.569998350512667\n"
     ]
    }
   ],
   "source": [
    "# Question 3\n",
    "\n",
    "# Compute the SVD\n",
    "U, s, Vt = LA.svd(A_data)\n",
    "\n",
    "# print the SVD result\n",
    "# print(f\"U matrix{U}\")\n",
    "# print(f\"singular value matrix{s}\")\n",
    "# print(f\"V transpose matrix{Vt}\")\n",
    "\n",
    "# Part A\n",
    "third_singular_value = s[2]\n",
    "print(f\"The third singular value is {third_singular_value}\")\n",
    "\n",
    "# Part B\n",
    "a_rank = np.linalg.matrix_rank(A_data)\n",
    "print(f\"The rank of a is {a_rank}\")\n",
    "\n",
    "# Part C\n",
    "aT = A_data.T\n",
    "aT_a = aT.dot(A_data)\n",
    "eigenvalues, eigenvectors = np.linalg.eig(aT_a)\n",
    "print(f\"The eigenvalues are {eigenvalues}\")\n",
    "print(f\"The eigenvectors are {eigenvectors}\")\n",
    "\n",
    "# Part D\n",
    "# Source: https://gist.github.com/thearn/\n",
    "\n",
    "# Calculate the Ak matrix for A2\n",
    "A2 = np.zeros((len(U), len(Vt)))\n",
    "# print(A2)\n",
    "for i in range(2):\n",
    "    A2 += s[i] * np.outer(U[i], Vt[i])\n",
    "# print(A2)\n",
    "\n",
    "# Frobenius Norm\n",
    "frobenius_norm = math.pow(np.linalg.norm(A_data - A2, 'fro'), 2)\n",
    "print(f\"The frobenius norm squared is {frobenius_norm}\")\n",
    "\n",
    "# Part E\n",
    "spectral_norm = math.pow(np.linalg.norm(A_data - A2, 1), 2)\n",
    "print(f\"The spectral norm squared is {spectral_norm}\")"
   ]
  },
  {
   "cell_type": "code",
   "execution_count": null,
   "metadata": {
    "scrolled": true
   },
   "outputs": [],
   "source": [
    "# Question 2"
   ]
  },
  {
   "cell_type": "code",
   "execution_count": null,
   "metadata": {},
   "outputs": [],
   "source": [
    "# Question 1"
   ]
  }
 ],
 "metadata": {
  "kernelspec": {
   "display_name": "Python 3",
   "language": "python",
   "name": "python3"
  },
  "language_info": {
   "codemirror_mode": {
    "name": "ipython",
    "version": 3
   },
   "file_extension": ".py",
   "mimetype": "text/x-python",
   "name": "python",
   "nbconvert_exporter": "python",
   "pygments_lexer": "ipython3",
   "version": "3.6.8"
  }
 },
 "nbformat": 4,
 "nbformat_minor": 2
}
